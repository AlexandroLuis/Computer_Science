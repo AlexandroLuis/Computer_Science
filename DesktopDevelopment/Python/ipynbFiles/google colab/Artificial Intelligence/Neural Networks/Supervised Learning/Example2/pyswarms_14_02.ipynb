{
  "nbformat": 4,
  "nbformat_minor": 0,
  "metadata": {
    "colab": {
      "name": "pyswarms_14-02.ipynb",
      "provenance": [],
      "collapsed_sections": []
    },
    "kernelspec": {
      "name": "python3",
      "display_name": "Python 3"
    },
    "language_info": {
      "name": "python"
    }
  },
  "cells": [
    {
      "cell_type": "markdown",
      "source": [
        "#imports"
      ],
      "metadata": {
        "id": "Izna_V2e6tGU"
      }
    },
    {
      "cell_type": "code",
      "source": [
        "!pip install pyswarms\n",
        "\n",
        "import numpy as np\n",
        "import pyswarms as ps\n",
        "from pyswarms.utils.functions import single_obj as fx\n"
      ],
      "metadata": {
        "colab": {
          "base_uri": "https://localhost:8080/"
        },
        "id": "4bD_vn3v6vC7",
        "outputId": "ef2209f9-bbdf-44ac-9b2e-deeb140f614c"
      },
      "execution_count": 1,
      "outputs": [
        {
          "output_type": "stream",
          "name": "stdout",
          "text": [
            "Collecting pyswarms\n",
            "  Downloading pyswarms-1.3.0-py2.py3-none-any.whl (104 kB)\n",
            "\u001b[?25l\r\u001b[K     |███▏                            | 10 kB 22.0 MB/s eta 0:00:01\r\u001b[K     |██████▎                         | 20 kB 24.8 MB/s eta 0:00:01\r\u001b[K     |█████████▍                      | 30 kB 15.1 MB/s eta 0:00:01\r\u001b[K     |████████████▋                   | 40 kB 12.6 MB/s eta 0:00:01\r\u001b[K     |███████████████▊                | 51 kB 10.1 MB/s eta 0:00:01\r\u001b[K     |██████████████████▉             | 61 kB 11.5 MB/s eta 0:00:01\r\u001b[K     |██████████████████████          | 71 kB 12.6 MB/s eta 0:00:01\r\u001b[K     |█████████████████████████▏      | 81 kB 13.3 MB/s eta 0:00:01\r\u001b[K     |████████████████████████████▎   | 92 kB 14.5 MB/s eta 0:00:01\r\u001b[K     |███████████████████████████████▌| 102 kB 14.7 MB/s eta 0:00:01\r\u001b[K     |████████████████████████████████| 104 kB 14.7 MB/s \n",
            "\u001b[?25hRequirement already satisfied: tqdm in /usr/local/lib/python3.7/dist-packages (from pyswarms) (4.64.0)\n",
            "Requirement already satisfied: matplotlib>=1.3.1 in /usr/local/lib/python3.7/dist-packages (from pyswarms) (3.2.2)\n",
            "Requirement already satisfied: pyyaml in /usr/local/lib/python3.7/dist-packages (from pyswarms) (3.13)\n",
            "Requirement already satisfied: numpy in /usr/local/lib/python3.7/dist-packages (from pyswarms) (1.21.5)\n",
            "Requirement already satisfied: attrs in /usr/local/lib/python3.7/dist-packages (from pyswarms) (21.4.0)\n",
            "Requirement already satisfied: scipy in /usr/local/lib/python3.7/dist-packages (from pyswarms) (1.4.1)\n",
            "Requirement already satisfied: future in /usr/local/lib/python3.7/dist-packages (from pyswarms) (0.16.0)\n",
            "Requirement already satisfied: kiwisolver>=1.0.1 in /usr/local/lib/python3.7/dist-packages (from matplotlib>=1.3.1->pyswarms) (1.4.2)\n",
            "Requirement already satisfied: python-dateutil>=2.1 in /usr/local/lib/python3.7/dist-packages (from matplotlib>=1.3.1->pyswarms) (2.8.2)\n",
            "Requirement already satisfied: pyparsing!=2.0.4,!=2.1.2,!=2.1.6,>=2.0.1 in /usr/local/lib/python3.7/dist-packages (from matplotlib>=1.3.1->pyswarms) (3.0.8)\n",
            "Requirement already satisfied: cycler>=0.10 in /usr/local/lib/python3.7/dist-packages (from matplotlib>=1.3.1->pyswarms) (0.11.0)\n",
            "Requirement already satisfied: typing-extensions in /usr/local/lib/python3.7/dist-packages (from kiwisolver>=1.0.1->matplotlib>=1.3.1->pyswarms) (4.1.1)\n",
            "Requirement already satisfied: six>=1.5 in /usr/local/lib/python3.7/dist-packages (from python-dateutil>=2.1->matplotlib>=1.3.1->pyswarms) (1.15.0)\n",
            "Installing collected packages: pyswarms\n",
            "Successfully installed pyswarms-1.3.0\n"
          ]
        }
      ]
    },
    {
      "cell_type": "markdown",
      "source": [
        "#Code"
      ],
      "metadata": {
        "id": "bWSpxIQl6vW8"
      }
    },
    {
      "cell_type": "code",
      "source": [
        "#param\n",
        "options = {'c1':0.5, 'c2':0.3, 'w':0.9}\n",
        "\n",
        "#Declara o PSO\n",
        "optimizer = ps.single.GlobalBestPSO(n_particles = 10, dimensions = 2, options = options)\n",
        "\n",
        "#Executa o PSO\n",
        "cost, position = optimizer.optimize(fx.sphere, iters = 100)\n",
        "\n",
        "#Com limites\n",
        "\n",
        "max_bounds = 5.12 * np.ones(2) #[5.12,5.12]\n",
        "min_bounds = - max_bounds\n",
        "bounds = (min_bounds, max_bounds)\n",
        "\n",
        "optimizer2 = ps.single.GlobalBestPSO(n_particles = 10, dimensions = 2, options = options, bounds = bounds)\n",
        "\n",
        "cost2, position2 = optimizer.optimize(fx.rastrigin, iters = 1000)"
      ],
      "metadata": {
        "colab": {
          "base_uri": "https://localhost:8080/"
        },
        "id": "VRfIjxol6yxr",
        "outputId": "5799aa2b-2fde-4acc-fdfa-7184a1612a05"
      },
      "execution_count": 2,
      "outputs": [
        {
          "output_type": "stream",
          "name": "stderr",
          "text": [
            "2022-04-16 17:05:46,850 - pyswarms.single.global_best - INFO - Optimize for 100 iters with {'c1': 0.5, 'c2': 0.3, 'w': 0.9}\n",
            "pyswarms.single.global_best: 100%|██████████|100/100, best_cost=3.62e-9\n",
            "2022-04-16 17:05:47,064 - pyswarms.single.global_best - INFO - Optimization finished | best cost: 3.616187064930777e-09, best pos: [-7.56547050e-06 -5.96569419e-05]\n",
            "2022-04-16 17:05:47,084 - pyswarms.single.global_best - INFO - Optimize for 1000 iters with {'c1': 0.5, 'c2': 0.3, 'w': 0.9}\n",
            "pyswarms.single.global_best: 100%|██████████|1000/1000, best_cost=0\n",
            "2022-04-16 17:05:49,915 - pyswarms.single.global_best - INFO - Optimization finished | best cost: 0.0, best pos: [ 2.21526833e-09 -1.83952807e-10]\n"
          ]
        }
      ]
    },
    {
      "cell_type": "markdown",
      "source": [
        "#output"
      ],
      "metadata": {
        "id": "RAzv4pzL9BdV"
      }
    },
    {
      "cell_type": "code",
      "source": [
        "print(position2)"
      ],
      "metadata": {
        "colab": {
          "base_uri": "https://localhost:8080/"
        },
        "id": "fqmlVoX39CbN",
        "outputId": "e6fc50aa-19ce-44b5-aaf1-4f749bba1d52"
      },
      "execution_count": 3,
      "outputs": [
        {
          "output_type": "stream",
          "name": "stdout",
          "text": [
            "[ 2.21526833e-09 -1.83952807e-10]\n"
          ]
        }
      ]
    }
  ]
}