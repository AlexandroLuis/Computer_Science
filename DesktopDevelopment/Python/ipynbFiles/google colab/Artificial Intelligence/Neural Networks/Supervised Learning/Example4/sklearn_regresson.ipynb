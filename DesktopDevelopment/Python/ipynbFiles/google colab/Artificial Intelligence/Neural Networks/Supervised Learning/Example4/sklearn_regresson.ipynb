{
  "nbformat": 4,
  "nbformat_minor": 0,
  "metadata": {
    "colab": {
      "name": "sklearn_regresson.ipynb",
      "provenance": []
    },
    "kernelspec": {
      "name": "python3",
      "display_name": "Python 3"
    },
    "language_info": {
      "name": "python"
    }
  },
  "cells": [
    {
      "cell_type": "code",
      "execution_count": 1,
      "metadata": {
        "id": "VLhtr4C4Zpa3"
      },
      "outputs": [],
      "source": [
        "from sklearn.linear_model import ElasticNet\n",
        "from sklearn.datasets import make_regression"
      ]
    },
    {
      "cell_type": "code",
      "source": [
        "X, y = make_regression(n_features=2, random_state=0)\n",
        "regr = ElasticNet(random_state=0)\n",
        "regr.fit(X, y)\n",
        "ElasticNet(random_state=0)\n",
        "print(regr.coef_)\n",
        "print(regr.intercept_)\n",
        "print(regr.predict([[0, 0]]))"
      ],
      "metadata": {
        "id": "IgmDH14CekXz",
        "outputId": "b91865cc-1c9f-4b8b-96a9-5da655eb298a",
        "colab": {
          "base_uri": "https://localhost:8080/"
        }
      },
      "execution_count": 2,
      "outputs": [
        {
          "output_type": "stream",
          "name": "stdout",
          "text": [
            "[18.83816048 64.55968825]\n",
            "1.4512607561654032\n",
            "[1.45126076]\n"
          ]
        }
      ]
    }
  ]
}