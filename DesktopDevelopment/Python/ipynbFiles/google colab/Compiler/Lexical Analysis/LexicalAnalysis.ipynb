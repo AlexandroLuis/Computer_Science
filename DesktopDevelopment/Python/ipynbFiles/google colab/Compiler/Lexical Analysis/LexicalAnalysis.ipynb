{
  "nbformat": 4,
  "nbformat_minor": 0,
  "metadata": {
    "colab": {
      "name": "LexicalAnalysis.ipynb",
      "provenance": [],
      "collapsed_sections": [
        "L5YD6B3GY1jV",
        "n8I7-h_SU9Zy",
        "0wtBelXqV5L0"
      ]
    },
    "kernelspec": {
      "name": "python3",
      "display_name": "Python 3"
    },
    "language_info": {
      "name": "python"
    }
  },
  "cells": [
    {
      "cell_type": "markdown",
      "source": [
        "#Imports"
      ],
      "metadata": {
        "id": "L5YD6B3GY1jV"
      }
    },
    {
      "cell_type": "code",
      "source": [
        "import re\n",
        "import os\n",
        "\n",
        "os.mkdir(\"/content/language\")"
      ],
      "metadata": {
        "id": "vPhJ1uDdY3zE"
      },
      "execution_count": null,
      "outputs": []
    },
    {
      "cell_type": "markdown",
      "source": [
        "#Analyzer"
      ],
      "metadata": {
        "id": "Dncs8c7WWHM7"
      }
    },
    {
      "cell_type": "markdown",
      "source": [
        "##1"
      ],
      "metadata": {
        "id": "0wtBelXqV5L0"
      }
    },
    {
      "cell_type": "code",
      "source": [
        "realNumber = []\n",
        "intNumber = []\n",
        "operator = []\n",
        "brackets = []\n",
        "\n",
        "operand = ['/', '*', '+', '-']\n",
        "bracket = ['(', ')', '{', '}', '[', ']']"
      ],
      "metadata": {
        "id": "-r0n3z86QtW6"
      },
      "execution_count": null,
      "outputs": []
    },
    {
      "cell_type": "code",
      "source": [
        "realNumber.clear()\n",
        "intNumber.clear()\n",
        "operator.clear()\n",
        "brackets.clear()\n",
        "                \n",
        "values = input().split()\n",
        "\n",
        "try:\n",
        "  for i in values:\n",
        "    if i in bracket:\n",
        "      brackets.append(i)\n",
        "    elif i in operand:\n",
        "      operator.append(i)\n",
        "    else:\n",
        "      try:\n",
        "        aux = int(i)\n",
        "        intNumber.append(i) \n",
        "      except:\n",
        "        try:\n",
        "          aux = float(i) \n",
        "          realNumber.append(i) \n",
        "        except:\n",
        "          pass\n",
        "except ValueError:\n",
        "  print(ValueError)\n",
        "\n",
        "\n",
        "print(f'\\nBrackets: {brackets}')\n",
        "print(f'Float Numbers: {realNumber}')\n",
        "print(f'Int Numbers: {intNumber}')\n",
        "print(f'Operators: {operator}')"
      ],
      "metadata": {
        "id": "z50YggDAWJt7"
      },
      "execution_count": null,
      "outputs": []
    },
    {
      "cell_type": "markdown",
      "source": [
        "##2"
      ],
      "metadata": {
        "id": "4mAD9XCsV0ik"
      }
    },
    {
      "cell_type": "code",
      "source": [
        "# files compare\n",
        "try:\n",
        "  path = \"/content/language/\"\n",
        "  with open(path+\"palavrasreservadas.txt\") as f:\n",
        "    palavras_reservadas = [i.strip() for i in f]\n",
        "    f.close()\n",
        "\n",
        "  with open(path+\"simbolos.txt\") as f:\n",
        "    simbolos = [i.strip() for i in f]\n",
        "    f.close()\n",
        "\n",
        "  with open(path+\"source.a\") as f:\n",
        "    source = [i.strip() for i in f]\n",
        "    f.close()\n",
        "except ValueError:\n",
        "  print(ValueError)\n",
        "\n",
        "# list receive\n",
        "identificadores = []\n",
        "numerosinteiros = []\n",
        "numerosreais = []\n",
        "cadeiastrings = []\n",
        "ids = []\n",
        "palavrasreservadas = []\n",
        "simboloslinguagem = []\n"
      ],
      "metadata": {
        "id": "gci4dLQQV_zb"
      },
      "execution_count": null,
      "outputs": []
    },
    {
      "cell_type": "code",
      "source": [
        "numerosinteiros.clear()\n",
        "numerosreais.clear()\n",
        "cadeiastrings.clear()\n",
        "ids.clear()\n",
        "palavrasreservadas.clear()\n",
        "simboloslinguagem.clear()\n",
        "\n",
        "sourceV = [i.split(' ') for i in source] \n",
        "\n",
        "for i in sourceV:\n",
        "  for j in i:\n",
        "    if j in  palavras_reservadas:\n",
        "      palavrasreservadas.append(j)\n",
        "    elif j in simbolos:\n",
        "      simboloslinguagem.append(j)\n",
        "    else:\n",
        "      try:\n",
        "        aux = int(j)\n",
        "        numerosinteiros.append(j)\n",
        "      except:\n",
        "        try:\n",
        "          aux = float(j)\n",
        "          numerosreais.append(j)\n",
        "        except:\n",
        "          if len(j) < 2:\n",
        "            ids.append(j)\n",
        "          else:\n",
        "            cadeiastrings.append(j)\n",
        "\n",
        "    \n",
        "\n",
        "print(f'Numeros Inteiros: {numerosinteiros}')\n",
        "print(f'Numeros Reais: {numerosreais}')\n",
        "print(f'Cadeia de Caracteres: {cadeiastrings}')\n",
        "print(f'Identificadores: {ids}')\n",
        "print(f'Palavras Reservadas: {palavrasreservadas}')\n",
        "print(f'Simbolos da Linguagem: {simboloslinguagem}')"
      ],
      "metadata": {
        "colab": {
          "base_uri": "https://localhost:8080/"
        },
        "id": "QWehm0DaJVeG",
        "outputId": "dbdedb03-b0d6-4bb7-afd8-ca2575d69e40"
      },
      "execution_count": null,
      "outputs": [
        {
          "output_type": "stream",
          "name": "stdout",
          "text": [
            "Numeros Inteiros: ['0', '10', '2', '0', '1', '2']\n",
            "Numeros Reais: ['3.2']\n",
            "Cadeia de Caracteres: ['Resultado']\n",
            "Identificadores: ['a', 'x', 'i', 'i', 'i', 'i', 'a', 'a', 'a', '', 'a', '@']\n",
            "Palavras Reservadas: ['int', 'double', 'for', 'int', 'if', 'else', 'print']\n",
            "Simbolos da Linguagem: [';', '=', ';', '(', '=', ';', '<', ';', '++', ')', '{', '(', '%', '==', ')', '+=', ';', '=', '+', ';', ']', '(', '\"', '\"', ',', ')']\n"
          ]
        }
      ]
    }
  ]
}
