{
  "cells": [
    {
      "cell_type": "markdown",
      "metadata": {
        "id": "v7gamt7RDxET"
      },
      "source": [
        "#Import"
      ]
    },
    {
      "cell_type": "code",
      "execution_count": null,
      "metadata": {
        "colab": {
          "base_uri": "https://localhost:8080/"
        },
        "id": "qrf2G83nPJOj",
        "outputId": "0c7afd2b-3d34-479a-fe06-c55c733c334e"
      },
      "outputs": [
        {
          "output_type": "stream",
          "name": "stdout",
          "text": [
            "Collecting jmetalpy\n",
            "  Downloading jmetalpy-1.5.5.tar.gz (110 kB)\n",
            "\u001b[?25l\r\u001b[K     |███                             | 10 kB 19.1 MB/s eta 0:00:01\r\u001b[K     |██████                          | 20 kB 10.6 MB/s eta 0:00:01\r\u001b[K     |█████████                       | 30 kB 8.3 MB/s eta 0:00:01\r\u001b[K     |████████████                    | 40 kB 7.5 MB/s eta 0:00:01\r\u001b[K     |██████████████▉                 | 51 kB 3.5 MB/s eta 0:00:01\r\u001b[K     |█████████████████▉              | 61 kB 4.1 MB/s eta 0:00:01\r\u001b[K     |████████████████████▉           | 71 kB 4.4 MB/s eta 0:00:01\r\u001b[K     |███████████████████████▉        | 81 kB 4.5 MB/s eta 0:00:01\r\u001b[K     |██████████████████████████▉     | 92 kB 5.0 MB/s eta 0:00:01\r\u001b[K     |█████████████████████████████▊  | 102 kB 4.2 MB/s eta 0:00:01\r\u001b[K     |████████████████████████████████| 110 kB 4.2 MB/s \n",
            "\u001b[?25hRequirement already satisfied: tqdm in /usr/local/lib/python3.7/dist-packages (from jmetalpy) (4.63.0)\n",
            "Requirement already satisfied: numpy>=1.16.0 in /usr/local/lib/python3.7/dist-packages (from jmetalpy) (1.21.5)\n",
            "Requirement already satisfied: pandas>=0.24.2 in /usr/local/lib/python3.7/dist-packages (from jmetalpy) (1.3.5)\n",
            "Requirement already satisfied: plotly>=3.3.0 in /usr/local/lib/python3.7/dist-packages (from jmetalpy) (5.5.0)\n",
            "Requirement already satisfied: matplotlib>=3.0.2 in /usr/local/lib/python3.7/dist-packages (from jmetalpy) (3.2.2)\n",
            "Requirement already satisfied: scipy>=1.3.0 in /usr/local/lib/python3.7/dist-packages (from jmetalpy) (1.4.1)\n",
            "Requirement already satisfied: statsmodels>=0.9.0 in /usr/local/lib/python3.7/dist-packages (from jmetalpy) (0.10.2)\n",
            "Requirement already satisfied: kiwisolver>=1.0.1 in /usr/local/lib/python3.7/dist-packages (from matplotlib>=3.0.2->jmetalpy) (1.3.2)\n",
            "Requirement already satisfied: cycler>=0.10 in /usr/local/lib/python3.7/dist-packages (from matplotlib>=3.0.2->jmetalpy) (0.11.0)\n",
            "Requirement already satisfied: pyparsing!=2.0.4,!=2.1.2,!=2.1.6,>=2.0.1 in /usr/local/lib/python3.7/dist-packages (from matplotlib>=3.0.2->jmetalpy) (3.0.7)\n",
            "Requirement already satisfied: python-dateutil>=2.1 in /usr/local/lib/python3.7/dist-packages (from matplotlib>=3.0.2->jmetalpy) (2.8.2)\n",
            "Requirement already satisfied: pytz>=2017.3 in /usr/local/lib/python3.7/dist-packages (from pandas>=0.24.2->jmetalpy) (2018.9)\n",
            "Requirement already satisfied: six in /usr/local/lib/python3.7/dist-packages (from plotly>=3.3.0->jmetalpy) (1.15.0)\n",
            "Requirement already satisfied: tenacity>=6.2.0 in /usr/local/lib/python3.7/dist-packages (from plotly>=3.3.0->jmetalpy) (8.0.1)\n",
            "Requirement already satisfied: patsy>=0.4.0 in /usr/local/lib/python3.7/dist-packages (from statsmodels>=0.9.0->jmetalpy) (0.5.2)\n",
            "Building wheels for collected packages: jmetalpy\n",
            "  Building wheel for jmetalpy (setup.py) ... \u001b[?25l\u001b[?25hdone\n",
            "  Created wheel for jmetalpy: filename=jmetalpy-1.5.5-py3-none-any.whl size=196212 sha256=93dbf5322b9383f97fefc56f32569241aa5a95b4670f8968f635bf339bb84ee6\n",
            "  Stored in directory: /root/.cache/pip/wheels/ca/8a/fd/c7b0b43039ee307e366569834484b5aa51ff81d609288dfcd2\n",
            "Successfully built jmetalpy\n",
            "Installing collected packages: jmetalpy\n",
            "Successfully installed jmetalpy-1.5.5\n"
          ]
        }
      ],
      "source": [
        "!pip install jmetalpy"
      ]
    },
    {
      "cell_type": "code",
      "execution_count": null,
      "metadata": {
        "id": "zP1M0VvPDweV",
        "colab": {
          "base_uri": "https://localhost:8080/"
        },
        "outputId": "0e1b9a15-7558-451c-bcc2-68edeecaf036"
      },
      "outputs": [
        {
          "output_type": "stream",
          "name": "stderr",
          "text": [
            "/usr/local/lib/python3.7/dist-packages/statsmodels/tools/_testing.py:19: FutureWarning: pandas.util.testing is deprecated. Use the functions in the public API at pandas.testing instead.\n",
            "  import pandas.util.testing as tm\n"
          ]
        }
      ],
      "source": [
        "import math\n",
        "import random\n",
        "import re\n",
        "import json\n",
        "import os\n",
        "import time\n",
        "\n",
        "import pandas as pd\n",
        "import matplotlib.pyplot as plt\n",
        "from pathlib import Path\n",
        "\n",
        "import threading\n",
        "from threading import Thread\n",
        "\n",
        "import jmetal\n",
        "\n",
        "\n",
        "# single objective problem\n",
        "from jmetal.algorithm.singleobjective.genetic_algorithm import GeneticAlgorithm\n",
        "\n",
        "#operator\n",
        "from jmetal.operator.mutation import PermutationSwapMutation,PolynomialMutation\n",
        "from jmetal.operator.crossover import PMXCrossover\n",
        "from jmetal.operator import BinaryTournamentSelection, BestSolutionSelection\n",
        "\n",
        "# util\n",
        "from jmetal.util.comparator import MultiComparator\n",
        "from jmetal.util.ranking import StrengthRanking\n",
        "from jmetal.util.density_estimator import KNearestNeighborDensityEstimator\n",
        "from jmetal.util import termination_criterion\n",
        "from jmetal.util.observer import ProgressBarObserver\n",
        "from jmetal.util.solution import get_non_dominated_solutions\n",
        "from jmetal.util.termination_criterion import StoppingByEvaluations\n",
        "\n",
        "#core\n",
        "from jmetal.core.quality_indicator import *\n",
        "from jmetal.core.problem import PermutationProblem\n",
        "from jmetal.core.solution import PermutationSolution, Solution\n",
        "\n",
        "#lab\n",
        "from jmetal.lab.experiment import Experiment, Job, generate_summary_from_experiment\n",
        "\n"
      ]
    },
    {
      "cell_type": "markdown",
      "metadata": {
        "id": "xSNgNhQmD0IE"
      },
      "source": [
        "#Read Files"
      ]
    },
    {
      "cell_type": "code",
      "execution_count": 28,
      "metadata": {
        "id": "Z2ReeTRNGr8M"
      },
      "outputs": [],
      "source": [
        "def read_tsplib_file(filename):\n",
        "    if filename is None:\n",
        "        raise FileNotFoundError('Filename can not be None')\n",
        "    with open(filename) as file:\n",
        "        lines = file.readlines()\n",
        "        data = [line.lstrip() for line in lines if line != \"\"]\n",
        "        dimension = re.compile(r'[^\\d]+')\n",
        "        for item in data:\n",
        "            if item.startswith('DIMENSION'):\n",
        "                dimension = int(dimension.sub('', item))\n",
        "                break\n",
        "        c = [-1.0] * (2 * dimension)\n",
        "        cities_coord = []\n",
        "        for item in data:\n",
        "            if item[0].isdigit():\n",
        "                j, coordX, coordY = [float(x.strip()) for x in item.split(' ')]\n",
        "                c[2 * (int(j) - 1)] = coordX\n",
        "                c[2 * (int(j) - 1) + 1] = coordY\n",
        "                cities_coord.append([coordX,coordY])\n",
        "        cities = pd.DataFrame(cities_coord)\n",
        "        matrix = [[-1] * dimension for _ in range(dimension)]\n",
        "        for k in range(dimension):\n",
        "            matrix[k][k] = 0\n",
        "            for j in range(k + 1, dimension):\n",
        "                dist = math.sqrt((c[k * 2] - c[j * 2]) ** 2 + (c[k * 2 + 1] - c[j * 2 + 1]) ** 2)\n",
        "                dist = round(dist)\n",
        "                matrix[k][j] = dist\n",
        "                matrix[j][k] = dist\n",
        "        return matrix, dimension, cities"
      ]
    },
    {
      "cell_type": "markdown",
      "metadata": {
        "id": "CUYZijUQGxLD"
      },
      "source": [
        "#TSP"
      ]
    },
    {
      "cell_type": "code",
      "execution_count": 29,
      "metadata": {
        "id": "ge1jW6X3GzZi"
      },
      "outputs": [],
      "source": [
        "class myTSP(PermutationProblem):\n",
        "    def __init__(self, distance_matrix, number_of_cities, fitness_log):\n",
        "        super(myTSP, self).__init__()\n",
        "        self.distance_matrix = distance_matrix\n",
        "        self.number_of_variables = number_of_cities\n",
        "        self.obj_directions = [self.MINIMIZE]\n",
        "        self.number_of_objectives = 1\n",
        "        self.number_of_constraints = 0\n",
        "        self.fitness_log = fitness_log\n",
        "        \n",
        "    def evaluate(self, solution: PermutationSolution) -> PermutationSolution:\n",
        "        fitness = 0\n",
        "        for i in range(self.number_of_variables - 1):\n",
        "            x = solution.variables[i]\n",
        "            y = solution.variables[i + 1]\n",
        "            fitness += self.distance_matrix[x][y]\n",
        "        first_city, last_city = solution.variables[0], solution.variables[-1]\n",
        "        fitness += self.distance_matrix[first_city][last_city]\n",
        "        solution.objectives[0] = fitness\n",
        "        self.fitness_log.append(fitness)\n",
        "        return solution\n",
        "    \n",
        "    def create_solution(self) -> PermutationSolution:\n",
        "        new_solution = PermutationSolution(number_of_variables=self.number_of_variables,\n",
        "                                           number_of_objectives=self.number_of_objectives)\n",
        "        new_solution.variables = random.sample(range(self.number_of_variables), k=self.number_of_variables)\n",
        "        return new_solution\n",
        "\n",
        "    @property\n",
        "    def number_of_cities(self):\n",
        "        return self.number_of_variables\n",
        "\n",
        "    def get_name(self):\n",
        "        return 'Symmetric TSP'"
      ]
    },
    {
      "cell_type": "markdown",
      "metadata": {
        "id": "MtlGIZ59G-T6"
      },
      "source": [
        "#Problem"
      ]
    },
    {
      "cell_type": "code",
      "execution_count": 30,
      "metadata": {
        "id": "-YIF0o7yG_5T"
      },
      "outputs": [],
      "source": [
        "class problem():\n",
        "  def __init__(self):\n",
        "        self.problem_name = 'Djibouti 38 TSP'\n",
        "        self.optimal_fitness = 6656\n",
        "        self.location = \"/dj38.tsp\"\n",
        "        self.dist_matrix, self.nb_cities, self.cities_coord = read_tsplib_file(self.location)\n",
        "\n",
        "  def myProblem(self, fitness_log): \n",
        "    return myTSP(self.dist_matrix, self.nb_cities, fitness_log)\n",
        "\n",
        "  def getProblemName(self):\n",
        "    return self.problem_name\n",
        "\n",
        "  def getOptimalFitness(self):\n",
        "    return self.optimal_fitness\n",
        "  \n",
        "  def getCityCoord(self):\n",
        "    return self.cities_coord"
      ]
    },
    {
      "cell_type": "markdown",
      "metadata": {
        "id": "L1ea6r46G38S"
      },
      "source": [
        "#Save To File"
      ]
    },
    {
      "cell_type": "code",
      "execution_count": 31,
      "metadata": {
        "id": "M66YYwkyOQ0C"
      },
      "outputs": [],
      "source": [
        "def calltosave(d, i):\n",
        "  try:\n",
        "    x = problem()\n",
        "    filename = \"output\"\n",
        "    filename2 = x.getProblemName()\n",
        "    path = os.path.join(filename, filename2)\n",
        "    Path(path).mkdir(parents=True, exist_ok=True)     \n",
        "  except:\n",
        "    pass\n",
        "\n",
        "  with open(\"%s/%s_TSP.txt\" %(path, i), 'w', encoding='utf-8') as f:\n",
        "    f.write(\"\"+i+\"°iteration output:\\n\")\n",
        "    json.dump(d, f, indent=4, separators=(',',': '))\n",
        "    \n",
        "    f.write(\"\\ngraph iteration output:\\n\")\n",
        "    f.write(\"--\"*60)\n",
        "    f.write(\"\\n\")\n",
        "  f.close()"
      ]
    },
    {
      "cell_type": "code",
      "execution_count": 32,
      "metadata": {
        "id": "BUTQ6egHG5gK"
      },
      "outputs": [],
      "source": [
        "def create_output_file(my_algo, pop_evolved, log, params, i):\n",
        "    algorithm_name = my_algo.get_name()\n",
        "    solution_x = pop_evolved.variables\n",
        "    fitness = pop_evolved.objectives[0]\n",
        "    n_evals = my_algo.evaluations\n",
        "    duration = my_algo.total_computing_time\n",
        "    lensolution = solution_x \n",
        "    x = problem()\n",
        "\n",
        "    d = {}\n",
        "    d['Function'] = x.getProblemName()\n",
        "    d['Problem dimension'] = lensolution\n",
        "    d['Global Optimum'] = x.getOptimalFitness()\n",
        "    d['Algorithm'] = algorithm_name\n",
        "    d['Parameters'] = params\n",
        "    d['Fitness'] = fitness\n",
        "    d['Solution'] = solution_x\n",
        "    d['Nb of functions evaluations'] = n_evals\n",
        "    d['Computational time in seconds'] = duration\n",
        "    d['Stopping criterion in evaluations'] = maxevals\n",
        "\n",
        "    calltosave(d, i)"
      ]
    },
    {
      "cell_type": "markdown",
      "metadata": {
        "id": "bCtoiv2NJdNo"
      },
      "source": [
        "#Output"
      ]
    },
    {
      "cell_type": "code",
      "execution_count": 33,
      "metadata": {
        "id": "zi81GlyZ3BVb"
      },
      "outputs": [],
      "source": [
        "#Last Element Output\n",
        "class lastOutput():\n",
        "  def __init__(self, fitness_log, result):\n",
        "        self.fitness_log = fitness_log\n",
        "        self.result = result\n",
        "\n",
        "  # print graph\n",
        "  def plotMap(self):\n",
        "    plt.plot(self.fitness_log[::1000])\n",
        "    plt.xlabel(\"evaluations (x1000)\")\n",
        "    plt.ylabel(\"fitness\")\n",
        "    plt.show()\n",
        "\n",
        "  # print map\n",
        "  def printMap(self):\n",
        "    cities_coord = problem().getCityCoord()\n",
        "    xlist = [cities_coord.iloc[i,0] for i in self.result.variables]\n",
        "    ylist = [cities_coord.iloc[i,1] for i in self.result.variables]\n",
        "\n",
        "    xlist.append(xlist[0])\n",
        "    ylist.append(ylist[0])\n",
        "\n",
        "    plt.figure(figsize=(16,8))\n",
        "    for idx,city in enumerate(cities_coord.values):\n",
        "      plt.scatter(city[0],city[1])\n",
        "      plt.text(city[0]-20, city[1]+40, str(idx), fontsize=10)\n",
        "\n",
        "    plt.plot(xlist, ylist, linestyle='-')\n",
        "    plt.plot(xlist, ylist, linestyle='-')\n",
        "    plt.axis('scaled')\n",
        "    plt.show()\n",
        "\n",
        "  #run all functions\n",
        "  def getResults(self):\n",
        "        if __name__ == '__main__':\n",
        "            self.plotMap()\n",
        "            self.printMap()\n",
        "            #Thread(target = self.plotMap).start()\n",
        "            #Thread(target = self.printMap).start()"
      ]
    },
    {
      "cell_type": "markdown",
      "metadata": {
        "id": "hSp9y95sHDqa"
      },
      "source": [
        "#Problem Execution"
      ]
    },
    {
      "cell_type": "code",
      "execution_count": 34,
      "metadata": {
        "id": "4ieDfaFWHIg8"
      },
      "outputs": [],
      "source": [
        "class Main():\n",
        "  def __init__(self, run, maxevals, popsize, offspring, mut_prob, cross_prob):\n",
        "        self.run = run\n",
        "        self.maxevals = maxevals\n",
        "        self.popsize = popsize\n",
        "        self.offspring = offspring\n",
        "        self.mut_prob = mut_prob\n",
        "        self.cross_prob = cross_prob\n",
        "        self.i = 0\n",
        "        self.fitness_log = []\n",
        "\n",
        "  def start(self):\n",
        "    for i in range(run):\n",
        "      print(f\"\\n{i+1}° runs:\")\n",
        "      self.execute()\n",
        "    self.output()\n",
        "\n",
        "  def execute(self):\n",
        "    select = BinaryTournamentSelection(\n",
        "\t  \t\t  \t\tMultiComparator([StrengthRanking.get_comparator(),\n",
        "\t\t  \t\t  \t\t\t\t\t KNearestNeighborDensityEstimator.get_comparator()]\n",
        "\t\t\t  \t  \t\t\t\t   ))\n",
        "\n",
        "    termin = termination_criterion.StoppingByEvaluations(max_evaluations=maxevals)\n",
        "\n",
        "    algorithm = GeneticAlgorithm(\n",
        "      problem=problem().myProblem(self.fitness_log),\n",
        "      population_size=popsize,\n",
        "      offspring_population_size=offspring,\n",
        "      mutation=PermutationSwapMutation(mut_prob), \n",
        "      crossover=PMXCrossover(cross_prob),\n",
        "      selection=select,\n",
        "      termination_criterion=termin,\n",
        "    )\n",
        "\n",
        "    params = {\n",
        "              'population':popsize, \n",
        "  \t          'offspring':offspring, \n",
        "\t            'mutation probability': mut_prob, \n",
        "\t\t          'crossover probability': cross_prob,\n",
        "  \t\t  }\n",
        "\n",
        "    # Call GeneticAlgorithm and execute it #\n",
        "    algorithm.observable.register(ProgressBarObserver(max=maxevals))\n",
        "    algorithm.run()\n",
        "\n",
        "    self.result = algorithm.get_result()\n",
        "    create_output_file(algorithm, self.result, self.fitness_log, params, str(self.i+1))\n",
        "\n",
        "  def output(self):    \n",
        "    call = lastOutput(self.fitness_log, self.result)#.getResults()\n",
        "    call.plotMap()\n",
        "    call.printMap()\n",
        "    \n"
      ]
    },
    {
      "cell_type": "markdown",
      "metadata": {
        "id": "LZ9UJaDTHHhs"
      },
      "source": [
        "#RUN"
      ]
    },
    {
      "cell_type": "code",
      "execution_count": 35,
      "metadata": {
        "colab": {
          "base_uri": "https://localhost:8080/",
          "height": 1000
        },
        "id": "fKl3U0bQqnzt",
        "outputId": "d6a80257-f547-412f-e51f-2b7886f658fe"
      },
      "outputs": [
        {
          "output_type": "stream",
          "name": "stdout",
          "text": [
            "\n",
            "1° runs:\n"
          ]
        },
        {
          "output_type": "stream",
          "name": "stderr",
          "text": [
            "Progress: 200200it [00:38, 5229.97it/s]                            \n"
          ]
        },
        {
          "output_type": "stream",
          "name": "stdout",
          "text": [
            "\n",
            "2° runs:\n"
          ]
        },
        {
          "output_type": "stream",
          "name": "stderr",
          "text": [
            "Progress: 200200it [00:32, 6252.50it/s]\n"
          ]
        },
        {
          "output_type": "stream",
          "name": "stdout",
          "text": [
            "\n",
            "3° runs:\n"
          ]
        },
        {
          "output_type": "stream",
          "name": "stderr",
          "text": [
            "Progress: 200200it [00:32, 6209.55it/s]\n"
          ]
        },
        {
          "output_type": "stream",
          "name": "stdout",
          "text": [
            "\n",
            "4° runs:\n"
          ]
        },
        {
          "output_type": "stream",
          "name": "stderr",
          "text": [
            "Progress: 200200it [00:31, 6377.03it/s]\n"
          ]
        },
        {
          "output_type": "stream",
          "name": "stdout",
          "text": [
            "\n",
            "5° runs:\n"
          ]
        },
        {
          "output_type": "stream",
          "name": "stderr",
          "text": [
            "Progress: 200200it [00:31, 6328.11it/s]\n"
          ]
        },
        {
          "output_type": "display_data",
          "data": {
            "image/png": "[encoded data removed]",
            "text/plain": [
              "<Figure size 432x288 with 1 Axes>"
            ]
          },
          "metadata": {
            "needs_background": "light"
          }
        },
        {
          "output_type": "display_data",
          "data": {
            "image/png": "[encoded data removed]",
            "text/plain": [
              "<Figure size 1152x576 with 1 Axes>"
            ]
          },
          "metadata": {
            "needs_background": "light"
          }
        }
      ],
      "source": [
        "if __name__ == '__main__':\n",
        "  #params\n",
        "  run = 5\n",
        "  maxevals = 200000\n",
        "  popsize = 440\n",
        "  offspring = 440\n",
        "  mut_prob = 0.08\n",
        "  cross_prob = 0.77\n",
        "\n",
        "  #call function\n",
        "  execute = Main(run, maxevals, popsize, offspring, mut_prob, cross_prob).start()\n",
        "\n",
        "\n",
        "#IGD indicador de qualidade\n",
        "#friedman, wilcoxon stat test"
      ]
    }
  ],
  "metadata": {
    "colab": {
      "collapsed_sections": [
        "xSNgNhQmD0IE",
        "CUYZijUQGxLD"
      ],
      "name": "JMpy_TSP.ipynb",
      "provenance": []
    },
    "kernelspec": {
      "display_name": "Python 3",
      "name": "python3"
    },
    "language_info": {
      "name": "python"
    }
  },
  "nbformat": 4,
  "nbformat_minor": 0
}
