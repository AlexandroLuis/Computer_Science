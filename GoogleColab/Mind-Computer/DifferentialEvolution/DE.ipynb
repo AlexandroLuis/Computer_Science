{
  "nbformat": 4,
  "nbformat_minor": 0,
  "metadata": {
    "colab": {
      "name": "EvoluçãoDiferencial.ipynb",
      "provenance": [],
      "collapsed_sections": [
        "v54lHHtkPR2r"
      ]
    },
    "kernelspec": {
      "name": "python3",
      "display_name": "Python 3"
    },
    "language_info": {
      "name": "python"
    }
  },
  "cells": [
    {
      "cell_type": "markdown",
      "source": [
        "#import"
      ],
      "metadata": {
        "id": "v54lHHtkPR2r"
      }
    },
    {
      "cell_type": "code",
      "source": [
        "!pip install ypstruct"
      ],
      "metadata": {
        "id": "LAw1BJs-PcuU"
      },
      "execution_count": null,
      "outputs": []
    },
    {
      "cell_type": "code",
      "source": [
        "import numpy as np\n",
        "import random\n",
        "import matplotlib.pyplot as plt\n",
        "from ypstruct import struct"
      ],
      "metadata": {
        "id": "tc4kD7PwPL1l"
      },
      "execution_count": null,
      "outputs": []
    },
    {
      "cell_type": "markdown",
      "source": [
        "#code"
      ],
      "metadata": {
        "id": "Gi9Dr1vNPUqW"
      }
    },
    {
      "cell_type": "code",
      "source": [
        "#sphere\n",
        "def esfera(x):\n",
        "  return sum(x**2)"
      ],
      "metadata": {
        "id": "JGSnCbjCPvWV"
      },
      "execution_count": null,
      "outputs": []
    },
    {
      "cell_type": "code",
      "source": [
        "def repara(individuo, problema):\n",
        "  individuo.vetor = np.maximum(individuo.vetor, problema.limite_inferior)\n",
        "  individuo.vetor = np.minimum(individuo.vetor, problema.limite_superior)"
      ],
      "metadata": {
        "id": "LjUtGUDJQfwV"
      },
      "execution_count": null,
      "outputs": []
    },
    {
      "cell_type": "code",
      "source": [
        "#inicializacao da populacao\n",
        "def inicializacao(problema, parametros):\n",
        "  individuo_vazio = struct()\n",
        "  individuo_vazio.vetor = None\n",
        "  individuo_vazio.aptidao = None\n",
        "\n",
        "  populacao = individuo_vazio.repeat(parametros.tamanho_populacao)\n",
        "\n",
        "  for i in range(parametros.tamanho_populacao):\n",
        "    populacao[i].vetor = np.random.uniform(problema.limite_inferior, problema.limite_superior, problema.nvar)\n",
        "    populacao[i].aptidao = problema.funcao_aptidao(populacao[i].vetor)\n",
        "    \n",
        "  return populacao"
      ],
      "metadata": {
        "id": "frM7531CRv-E"
      },
      "execution_count": null,
      "outputs": []
    },
    {
      "cell_type": "code",
      "source": [
        "#definicao do problema\n",
        "problema = struct()\n",
        "problema.funcao_aptidao = esfera\n",
        "\n",
        "problema.nvar = 3\n",
        "problema.limite_inferior = [-10, -10, -10]\n",
        "problema.limite_superior = [ 10,  10,  10]\n",
        "\n",
        "\n",
        "#definicao da ED\n",
        "parametros =struct()\n",
        "parametros.maximo_iteracoes = 10\n",
        "parametros.tamanho_populacao = 20\n",
        "parametros.probabilidade_cruzamento = 0.9\n",
        "parametros.mutacao_F = 1.4"
      ],
      "metadata": {
        "id": "QH_QtfV8P0ok"
      },
      "execution_count": null,
      "outputs": []
    },
    {
      "cell_type": "code",
      "source": [
        "#ED\n",
        "melhor = struct()\n",
        "melhor.vetor = None\n",
        "melhor.aptidao = np.inf\n",
        "\n",
        "pop = inicializacao(problema, parametros)\n",
        "\n",
        "pop_ordenada = sorted(pop, key=lambda x:  x.aptidao, reverse = True)\n",
        "\n",
        "melhor.vetor = pop[0].vetor\n",
        "melhor.aptidao = pop[0].aptidao\n",
        "\n",
        "melhores_custos = np.empty(parametros.maximo_iteracoes + 1)\n",
        "melhores_custos[0] = melhor.aptidao"
      ],
      "metadata": {
        "id": "Ra_87v03Rqms"
      },
      "execution_count": null,
      "outputs": []
    },
    {
      "cell_type": "code",
      "source": [
        "''' Crossover '''\n",
        "\n",
        "# BIN\n",
        "def cruzamento_bin(original, mutado, taxa, dimensao):\n",
        "  recombinado = original.deepcopy()\n",
        "  \n",
        "  j_rand = np.random.random_integers(0, dimensao - 1, 1)\n",
        "\n",
        "  for j in range(dimensao):\n",
        "    r = np.random.rand()\n",
        "    if ((r < taxa) or (j == j_rand)):\n",
        "      recombinado.vetor[j] = mutado.vetor[j]\n",
        "    \n",
        "  return recombinado \n",
        "\n",
        "# EXP\n",
        "def cruzamento_exp(original, mutado, taxa, dimensao):\n",
        "  recombinado = original.deepcopy()\n",
        "  n = np.random.random_integers(0, dimensao - 1, 1)\n",
        "  L = 1\n",
        "\n",
        "  while ((np.random.rand() < taxa) and (L < dimensao)):\n",
        "    L = L + 1\n",
        "\n",
        "  for _ in range(L):\n",
        "    pos = n % dimensao\n",
        "    n = n + 1\n",
        "    recombinado.vetor[pos] = mutado.vetor[pos]\n",
        "    \n",
        "  return recombinado "
      ],
      "metadata": {
        "id": "KFZjf23XQKpt"
      },
      "execution_count": null,
      "outputs": []
    },
    {
      "cell_type": "code",
      "source": [
        "''' Mutação '''\n",
        "\n",
        "# RAND 1\n",
        "def mutacao_rand_1(pop, parametros):\n",
        "  r = random.sample(range(parametros.tamanho_populacao), 3)\n",
        "\n",
        "  mutado = pop[r[0]].deepcopy()\n",
        "  mutado.vetor = mutado.vetor + parametros.mutacao_F * (pop[r[1]].vetor - pop[r[2]].vetor)\n",
        "\n",
        "  return mutado\n",
        "\n",
        "#RAND 2\n",
        "def mutacao_rand_2(pop, parametros):\n",
        "  r = random.sample(range(parametros.tamanho_populacao), 5)\n",
        "\n",
        "  mutado = pop[r[0]].deepcopy()\n",
        "  mutado.vetor = mutado.vetor + parametros.mutacao_F * (pop[r[1]].vetor - pop[r[2]].vetor) + parametros.mutacao_F * (pop[r[3]].vetor - pop[r[4]].vetor)\n",
        "\n",
        "  return mutado\n",
        "\n",
        "# BEST 1\n",
        "def mutacao_best_1(pop, melhor, parametros):\n",
        "  r = random.sample(range(parametros.tamanho_populacao), 2)\n",
        "\n",
        "  mutado = melhor.deepcopy()\n",
        "  mutado.vetor = mutado.vetor + parametros.mutacao_F * (pop[r[0]].vetor - pop[r[1]].vetor)\n",
        "\n",
        "  return mutado\n",
        "\n",
        "#BEST 2\n",
        "def mutacao_best_2(pop, melhor, parametros):\n",
        "  r = random.sample(range(parametros.tamanho_populacao), 4)\n",
        "\n",
        "  mutado = melhor.deepcopy()\n",
        "  mutado.vetor = mutado.vetor + parametros.mutacao_F * (pop[r[0]].vetor - pop[r[1]].vetor) + parametros.mutacao_F * (pop[r[2]].vetor - pop[r[3]].vetor)\n",
        "\n",
        "  return mutado\n",
        "\n",
        "def mutacao_current_to_best(pop, original, melhor, parametros):\n",
        "  r = random.sample(range(parametros.tamanho_populacao), 2)\n",
        "\n",
        "  mutado = original.deepcopy()\n",
        "  mutado.vetor = mutado.vetor + parametros.mutacao_F * (melhor.vetor - original.vetor) + parametros.mutacao_F * (pop[r[0]].vetor - pop[r[1]].vetor)\n",
        "\n",
        "  return mutado"
      ],
      "metadata": {
        "id": "MbeIkwnTQXeN"
      },
      "execution_count": null,
      "outputs": []
    },
    {
      "cell_type": "code",
      "execution_count": null,
      "metadata": {
        "colab": {
          "base_uri": "https://localhost:8080/"
        },
        "id": "3kBDAeJSPGH8",
        "outputId": "0d57d451-1cb0-45de-d5ed-aa740338ea5c"
      },
      "outputs": [
        {
          "output_type": "stream",
          "name": "stderr",
          "text": [
            "/usr/local/lib/python3.7/dist-packages/ipykernel_launcher.py:7: DeprecationWarning: This function is deprecated. Please call randint(0, 2 + 1) instead\n",
            "  import sys\n"
          ]
        }
      ],
      "source": [
        "#loop principal\n",
        "for iteracao in range(parametros.maximo_iteracoes):\n",
        "  \n",
        "  #gera proxima populacao\n",
        "  for i in range(parametros.tamanho_populacao):\n",
        "    #mutacao\n",
        "    #mutado = mutacao_rand_1 (pop, parametros)\n",
        "    #mutado = mutacao_best_1 (pop, melhor, parametros)\n",
        "    #mutado = mutacao_rand_2 (pop, parametros)\n",
        "    #mutado = mutacao_best_2 (pop, melhor, parametros)\n",
        "    mutado = mutacao_current_to_best (pop, pop[i], melhor, parametros)\n",
        "\n",
        "    #cruzamento\n",
        "    #recombinado = cruzamento_exp(pop[i], mutado, parametros.probabilidade_cruzamento, problema.nvar)\n",
        "    recombinado = cruzamento_bin(pop[i], mutado, parametros.probabilidade_cruzamento, problema.nvar)\n",
        "    \n",
        "    #evita vetor fora dos intervalos de minimos e maximos\n",
        "    repara(recombinado, problema)\n",
        "    \n",
        "    #avalia os novos individuos    \n",
        "    recombinado.aptidao = problema.funcao_aptidao(recombinado.vetor)\n",
        "    \n",
        "    #Seleciona se entra na populacao\n",
        "    if (recombinado.aptidao > pop[i].aptidao):\n",
        "      pop[i] = recombinado\n",
        "\n",
        "\n",
        "  \n",
        "  #pop_ordenada = sorted(pop, key=lambda x: x.aptidao)\n",
        "  pop_ordenada = sorted(pop, key=lambda x:  x.aptidao, reverse = True)\n",
        "\n",
        "  #acha o melhor\n",
        "  melhor.vetor = pop_ordenada[0].vetor\n",
        "  melhor.aptidao = pop_ordenada[0].aptidao\n",
        "\n",
        "  #guarda o historico\n",
        "  melhores_custos[iteracao + 1] = melhor.aptidao\n"
      ]
    },
    {
      "cell_type": "code",
      "source": [
        "#plotar os resultados\n",
        "plt.plot(melhores_custos)\n",
        "plt.xlim(0, parametros.maximo_iteracoes + 1)\n",
        "plt.xlabel('Geracao')\n",
        "plt.ylabel('Melhor Custo')\n",
        "plt.title('ED')\n",
        "plt.grid(True)\n",
        "plt.show()\n",
        "\n",
        "print(melhores_custos)"
      ],
      "metadata": {
        "colab": {
          "base_uri": "https://localhost:8080/",
          "height": 347
        },
        "id": "WJLs-2vxQnZr",
        "outputId": "7d8c8125-1508-4640-8e0c-310934348413"
      },
      "execution_count": null,
      "outputs": [
        {
          "output_type": "display_data",
          "data": {
            "text/plain": [
              "<Figure size 432x288 with 1 Axes>"
            ],
            "image/png": "[encoded data removed]"
          },
          "metadata": {
            "needs_background": "light"
          }
        },
        {
          "output_type": "stream",
          "name": "stdout",
          "text": [
            "[151.55489605 300.         300.         300.         300.\n",
            " 300.         300.         300.         300.         300.\n",
            " 300.        ]\n"
          ]
        }
      ]
    }
  ]
}
