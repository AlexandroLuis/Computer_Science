{
  "nbformat": 4,
  "nbformat_minor": 0,
  "metadata": {
    "colab": {
      "name": "Clonalg.ipynb",
      "provenance": [],
      "collapsed_sections": [
        "1pssFWJUib1W",
        "GcVvH5GwqH-q"
      ]
    },
    "kernelspec": {
      "name": "python3",
      "display_name": "Python 3"
    },
    "language_info": {
      "name": "python"
    }
  },
  "cells": [
    {
      "cell_type": "markdown",
      "source": [
        "# Todas as formas de **seleção** e **cruzamento** estão implementadas, apenas deve-se mudar no código da iteração principal, com os paramentros ***(popToBeCloned, nClones)*** para a seleção, e ***(point1, point2)*** para os de cruzamento :)"
      ],
      "metadata": {
        "id": "ZerdpVPTz6Zx"
      }
    },
    {
      "cell_type": "markdown",
      "source": [
        "#import"
      ],
      "metadata": {
        "id": "1pssFWJUib1W"
      }
    },
    {
      "cell_type": "code",
      "source": [
        "pip install ypstruct"
      ],
      "metadata": {
        "id": "8eh_85YgidDy",
        "colab": {
          "base_uri": "https://localhost:8080/"
        },
        "outputId": "00ebadbe-3ae5-49c6-c312-c5577e9ad6d7"
      },
      "execution_count": null,
      "outputs": [
        {
          "output_type": "stream",
          "name": "stdout",
          "text": [
            "Requirement already satisfied: ypstruct in /usr/local/lib/python3.7/dist-packages (0.0.2)\n"
          ]
        }
      ]
    },
    {
      "cell_type": "code",
      "source": [
        "import numpy as np\n",
        "import matplotlib.pyplot as plt\n",
        "from ypstruct import structure\n",
        "\n",
        "from functools import partial\n",
        "from operator import attrgetter"
      ],
      "metadata": {
        "id": "QHbaLQgzjIFt"
      },
      "execution_count": null,
      "outputs": []
    },
    {
      "cell_type": "markdown",
      "source": [
        "#code"
      ],
      "metadata": {
        "id": "B9pPOSrejIai"
      }
    },
    {
      "cell_type": "code",
      "source": [
        "#Sphere Function\n",
        "def sphere(x):\n",
        "  return sum(x**2)"
      ],
      "metadata": {
        "id": "42gSy5oPp265"
      },
      "execution_count": null,
      "outputs": []
    },
    {
      "cell_type": "code",
      "source": [
        "''' Selection '''\n",
        "\n",
        "# Roulette Whell of Selection\n",
        "def selRoulette(popToBeCloned, nClones):\n",
        "    fit_attr=\"fitness\"\n",
        "    s_inds = sorted(popToBeCloned, key=attrgetter(fit_attr), reverse=True)\n",
        "    sum_fits = sum(getattr(ind, fit_attr).values[0] for ind in popToBeCloned)\n",
        "    chosen = []\n",
        "    for i in np.xrange(nClones):\n",
        "        u = np.random.random() * sum_fits\n",
        "        sum_ = 0\n",
        "        for ind in s_inds:\n",
        "            sum_ += getattr(ind, fit_attr).values[0]\n",
        "            if sum_ > u:\n",
        "                chosen.append(ind)\n",
        "                break\n",
        "\n",
        "    return chosen\n",
        "\n",
        "# Truncation selection\n",
        "def truncation(popToBeCloned, nClones):\n",
        "    newPop = []\n",
        "    sorted_fitness = sorted(popToBeCloned, key=lambda x: x.fitness)\n",
        "    for i in range(0, len(popToBeCloned)):\n",
        "        r = np.random.randint((1 - nClones) * len(popToBeCloned), len(popToBeCloned))\n",
        "        newPop.append(sorted_fitness[r])\n",
        "    return sorted_fitness\n",
        "\n",
        "# Stochastic Universal Sampling\n",
        "def SUS(popToBeCloned, nClones):\n",
        "    newPop = []\n",
        "    sum = 0\n",
        "    j = 1\n",
        "    ptr = np.random.uniform(0, 1)\n",
        "    for i in range(0, len(popToBeCloned)):\n",
        "        sum = sum + nClones[i]\n",
        "        while (sum > ptr):\n",
        "            newPop.append(popToBeCloned[i])\n",
        "            j = j + 1\n",
        "            ptr = ptr + 1\n",
        "    return newPop\n",
        "\n",
        "# Tournament Selection\n",
        "def tournament(popToBeCloned, nClones):\n",
        "    newPop = []\n",
        "    best = []\n",
        "    for i in range(0, len(popToBeCloned)):\n",
        "        for j in range(0, nClones):\n",
        "            k = np.random.randint(0, len(popToBeCloned))\n",
        "            best.append(popToBeCloned[k])\n",
        "        sorted_fitness = sorted(best, key=lambda x: x.fitness)\n",
        "        newPop.append(sorted_fitness[len(best) - 1])\n",
        "    return newPop\n"
      ],
      "metadata": {
        "id": "ewPtcCIyqvTr"
      },
      "execution_count": null,
      "outputs": []
    },
    {
      "cell_type": "code",
      "source": [
        "''' Crossover '''\n",
        "\n",
        "# 1 point crossover \n",
        "def onepointC(point1, point2):\n",
        "    size = min(len(point1), len(point2))\n",
        "    cxpoint = np.random.randint(1, size - 1)\n",
        "    point1[cxpoint:], point2[cxpoint:] = point2[cxpoint:], point1[cxpoint:]\n",
        "\n",
        "    return point1, point2 \n",
        "\n",
        "# 2 point crossover\n",
        "def twopointC(point1, point2):\n",
        "    size = min(len(point1), len(point2))\n",
        "    cxpoint1 = np.random.randint(1, size)\n",
        "    cxpoint2 = np.random.randint(1, size - 1)\n",
        "    if cxpoint2 >= cxpoint1:\n",
        "        cxpoint2 += 1\n",
        "    else:  # Swap the two cx points\n",
        "        cxpoint1, cxpoint2 = cxpoint2, cxpoint1\n",
        "\n",
        "    point1[cxpoint1:cxpoint2], point2[cxpoint1:cxpoint2] \\\n",
        "        = point2[cxpoint1:cxpoint2], point1[cxpoint1:cxpoint2]\n",
        "\n",
        "    return point1, point2"
      ],
      "metadata": {
        "id": "6bi_jRoMrFzR"
      },
      "execution_count": null,
      "outputs": []
    },
    {
      "cell_type": "code",
      "source": [
        "''' Params '''\n",
        "#Antigen\n",
        "antigen = structure()\n",
        "antigen.affinity_function = sphere\n",
        "antigen.nvar = 5\n",
        "antigen.varmin = [-10, -10, -1, -5,  4]\n",
        "antigen.varmax = [ 10,  10,  1,  5, 10]\n",
        "\n",
        "#Clonalg\n",
        "clonalg = structure()\n",
        "clonalg.popsize = 20\n",
        "clonalg.maxit = 100\n",
        "clonalg.nToBeCloned = clonalg.popsize//2\n",
        "clonalg.nClones = 2\n",
        "clonalg.hypermutationRate = 0.5\n",
        "clonalg.hypermutationIntensity = 0.05\n",
        "\n",
        "empty_antibody = structure()\n",
        "empty_antibody.receptors = None\n",
        "empty_antibody.affinity = None"
      ],
      "metadata": {
        "id": "FEN0vhKMsiaM"
      },
      "execution_count": null,
      "outputs": []
    },
    {
      "cell_type": "code",
      "metadata": {
        "id": "Zpd5kjnDVB34"
      },
      "source": [
        "''' Mutation '''\n",
        "def hypermutation(x, hypermutationRate, hypermutationIntensity):\n",
        "  y = x.deepcopy()\n",
        "  flag = np.random.rand(*x.receptors.shape) <= hypermutationRate\n",
        "  indices = np.argwhere(flag)\n",
        "\n",
        "  maximum = np.array(antigen.varmax)[indices]\n",
        "  minimum = np.array(antigen.varmin)[indices]\n",
        "  scale = maximum - minimum\n",
        "  full_scale = hypermutationIntensity * scale\n",
        "  \n",
        "  y.receptors[indices] += 2 * (-0.5 + np.random.rand(*indices.shape)) * full_scale\n",
        "  return y\n",
        "\n",
        "def hypermutation_optimized(x, hypermutationRate, full_scale):\n",
        "  y = x.deepcopy()\n",
        "  flag = np.random.rand(*x.receptors.shape) <= hypermutationRate\n",
        "  indices = np.argwhere(flag)\n",
        "  \n",
        "  y.receptors[indices] += 2 * (-0.5 + np.random.rand(*indices.shape)) * full_scale[indices]\n",
        "  return y\n",
        "\n",
        "''' Bounds '''\n",
        "def apply_bounds(x, varmin, varmax):\n",
        "  x.receptors = np.maximum(x.receptors, varmin)\n",
        "  x.receptors = np.minimum(x.receptors, varmax)\n",
        "\n",
        "\n",
        "best = empty_antibody.deepcopy()\n",
        "best.affinity = np.inf\n",
        "\n",
        "#Initialize Antibody Population - Steps 1 and 2\n",
        "pop = empty_antibody.repeat(clonalg.popsize)\n",
        "for i in range(clonalg.popsize):\n",
        "  pop[i].receptors = np.random.uniform(antigen.varmin, antigen.varmax, antigen.nvar)\n",
        "  pop[i].affinity = antigen.affinity_function(pop[i].receptors)\n",
        "  if pop[i].affinity < best.affinity:\n",
        "    best = pop[i]\n",
        "  \n",
        "best_affinity_per_iteration = np.empty(clonalg.maxit)\n",
        "\n",
        "#pre calculate the full scale once\n",
        "maximum = np.array(antigen.varmax)\n",
        "minimum = np.array(antigen.varmin)\n",
        "scale = maximum - minimum\n"
      ],
      "execution_count": null,
      "outputs": []
    },
    {
      "cell_type": "code",
      "source": [
        "#Main loop of the algorithm\n",
        "\n",
        "for iteration in range(clonalg.maxit):\n",
        "  \n",
        "  #Select the antibodies to be cloned - Step 3\n",
        "  pop = sorted(pop, key=lambda x: x.affinity)\n",
        "  popToBeCloned = pop[0:clonalg.nToBeCloned]\n",
        "\n",
        "  #Generate clone population - Step 4\n",
        "  clonePop = []\n",
        "\n",
        "  for i in range(clonalg.nToBeCloned):\n",
        "    clonePop += popToBeCloned[i].repeat(clonalg.nClones)\n",
        "\n",
        "  if iteration <= (3*clonalg.maxit//2):\n",
        "    full_scale = clonalg.hypermutationIntensity * scale\n",
        "  else:\n",
        "    full_scale = clonalg.hypermutationIntensity/20 * scale\n",
        "\n",
        "\n",
        "  #Apply Hypermutation - Step 5 and Calculate Affinity - Step 6\n",
        "  for i in range(clonalg.nClones * clonalg.nToBeCloned):\n",
        "    clonePop[i] = hypermutation_optimized(clonePop[i], clonalg.hypermutationRate, full_scale)\n",
        "    apply_bounds(clonePop[i], antigen.varmin, antigen.varmax)\n",
        "    clonePop[i].affinity = antigen.affinity_function(clonePop[i].receptors)\n",
        "  \n",
        "  #Aggregate Antibodies and clones populations - Step 8 and Select the next Antibody population - Step 7\n",
        "  unitedPop = pop + clonePop\n",
        "  unitedPop = sorted(unitedPop, key=lambda x: x.affinity)\n",
        "  pop = unitedPop[0:clonalg.popsize]\n",
        "\n",
        "  #store the best affinity of the current iteration\n",
        "  best_affinity_per_iteration[iteration] = pop[0].affinity\n",
        "  #store the best solution\n",
        "  if pop[0].affinity < best.affinity:\n",
        "    best = pop[0]"
      ],
      "metadata": {
        "id": "HCXS3CgHtLTK"
      },
      "execution_count": null,
      "outputs": []
    },
    {
      "cell_type": "markdown",
      "source": [
        "#output"
      ],
      "metadata": {
        "id": "GcVvH5GwqH-q"
      }
    },
    {
      "cell_type": "code",
      "source": [
        "#Best solution\n",
        "print(best)\n",
        "\n",
        "#Plot of the best solution per iteration\n",
        "plt.plot(best_affinity_per_iteration)\n",
        "plt.xlim(0, clonalg.maxit)\n",
        "plt.xlabel('Iterations')\n",
        "plt.ylabel('Best Affinity')\n",
        "plt.title('Clonalg - Sphere Function')\n",
        "plt.grid(True)\n",
        "plt.show()"
      ],
      "metadata": {
        "colab": {
          "base_uri": "https://localhost:8080/",
          "height": 330
        },
        "id": "xE7fCxZiqJUi",
        "outputId": "120112d0-be66-41e4-bb3e-02ed7ebc4aab"
      },
      "execution_count": null,
      "outputs": [
        {
          "output_type": "stream",
          "name": "stdout",
          "text": [
            "struct({'receptors': array([ 9.67660125e-03, -3.74715776e-03, -4.20264059e-04, -4.49223205e-03,\n",
            "        4.00000000e+00]), 'affinity': 16.00012803457379})\n"
          ]
        },
        {
          "output_type": "display_data",
          "data": {
            "text/plain": [
              "<Figure size 432x288 with 1 Axes>"
            ],
            "image/png": "[encoded data removed]"
          },
          "metadata": {
            "needs_background": "light"
          }
        }
      ]
    }
  ]
}