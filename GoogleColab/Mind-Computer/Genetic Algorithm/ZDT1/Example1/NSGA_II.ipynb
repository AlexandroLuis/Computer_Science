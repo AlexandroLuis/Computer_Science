{
  "nbformat": 4,
  "nbformat_minor": 0,
  "metadata": {
    "colab": {
      "name": "NSGA - II.ipynb",
      "provenance": []
    },
    "kernelspec": {
      "name": "python3",
      "display_name": "Python 3"
    },
    "language_info": {
      "name": "python"
    }
  },
  "cells": [
    {
      "cell_type": "code",
      "execution_count": 1,
      "metadata": {
        "id": "WsCUOP2I2i_1",
        "colab": {
          "base_uri": "https://localhost:8080/"
        },
        "outputId": "117c5467-4c3e-4325-e7ec-d94ef7e994e7"
      },
      "outputs": [
        {
          "output_type": "stream",
          "name": "stdout",
          "text": [
            "Collecting jmetalpy\n",
            "  Downloading jmetalpy-1.5.5.tar.gz (110 kB)\n",
            "\u001b[?25l\r\u001b[K     |███                             | 10 kB 18.0 MB/s eta 0:00:01\r\u001b[K     |██████                          | 20 kB 10.9 MB/s eta 0:00:01\r\u001b[K     |█████████                       | 30 kB 8.8 MB/s eta 0:00:01\r\u001b[K     |████████████                    | 40 kB 8.3 MB/s eta 0:00:01\r\u001b[K     |██████████████▉                 | 51 kB 6.4 MB/s eta 0:00:01\r\u001b[K     |█████████████████▉              | 61 kB 7.4 MB/s eta 0:00:01\r\u001b[K     |████████████████████▉           | 71 kB 7.4 MB/s eta 0:00:01\r\u001b[K     |███████████████████████▉        | 81 kB 7.4 MB/s eta 0:00:01\r\u001b[K     |██████████████████████████▉     | 92 kB 8.2 MB/s eta 0:00:01\r\u001b[K     |█████████████████████████████▊  | 102 kB 7.8 MB/s eta 0:00:01\r\u001b[K     |████████████████████████████████| 110 kB 7.8 MB/s \n",
            "\u001b[?25hRequirement already satisfied: tqdm in /usr/local/lib/python3.7/dist-packages (from jmetalpy) (4.64.0)\n",
            "Requirement already satisfied: numpy>=1.16.0 in /usr/local/lib/python3.7/dist-packages (from jmetalpy) (1.21.5)\n",
            "Requirement already satisfied: pandas>=0.24.2 in /usr/local/lib/python3.7/dist-packages (from jmetalpy) (1.3.5)\n",
            "Requirement already satisfied: plotly>=3.3.0 in /usr/local/lib/python3.7/dist-packages (from jmetalpy) (5.5.0)\n",
            "Requirement already satisfied: matplotlib>=3.0.2 in /usr/local/lib/python3.7/dist-packages (from jmetalpy) (3.2.2)\n",
            "Requirement already satisfied: scipy>=1.3.0 in /usr/local/lib/python3.7/dist-packages (from jmetalpy) (1.4.1)\n",
            "Requirement already satisfied: statsmodels>=0.9.0 in /usr/local/lib/python3.7/dist-packages (from jmetalpy) (0.10.2)\n",
            "Requirement already satisfied: cycler>=0.10 in /usr/local/lib/python3.7/dist-packages (from matplotlib>=3.0.2->jmetalpy) (0.11.0)\n",
            "Requirement already satisfied: python-dateutil>=2.1 in /usr/local/lib/python3.7/dist-packages (from matplotlib>=3.0.2->jmetalpy) (2.8.2)\n",
            "Requirement already satisfied: pyparsing!=2.0.4,!=2.1.2,!=2.1.6,>=2.0.1 in /usr/local/lib/python3.7/dist-packages (from matplotlib>=3.0.2->jmetalpy) (3.0.8)\n",
            "Requirement already satisfied: kiwisolver>=1.0.1 in /usr/local/lib/python3.7/dist-packages (from matplotlib>=3.0.2->jmetalpy) (1.4.2)\n",
            "Requirement already satisfied: typing-extensions in /usr/local/lib/python3.7/dist-packages (from kiwisolver>=1.0.1->matplotlib>=3.0.2->jmetalpy) (4.1.1)\n",
            "Requirement already satisfied: pytz>=2017.3 in /usr/local/lib/python3.7/dist-packages (from pandas>=0.24.2->jmetalpy) (2018.9)\n",
            "Requirement already satisfied: six in /usr/local/lib/python3.7/dist-packages (from plotly>=3.3.0->jmetalpy) (1.15.0)\n",
            "Requirement already satisfied: tenacity>=6.2.0 in /usr/local/lib/python3.7/dist-packages (from plotly>=3.3.0->jmetalpy) (8.0.1)\n",
            "Requirement already satisfied: patsy>=0.4.0 in /usr/local/lib/python3.7/dist-packages (from statsmodels>=0.9.0->jmetalpy) (0.5.2)\n",
            "Building wheels for collected packages: jmetalpy\n",
            "  Building wheel for jmetalpy (setup.py) ... \u001b[?25l\u001b[?25hdone\n",
            "  Created wheel for jmetalpy: filename=jmetalpy-1.5.5-py3-none-any.whl size=196208 sha256=6a8a4b0aeb0b08b10ed454bd91c1ec69d6d906511f4304a1789930c894e32159\n",
            "  Stored in directory: /root/.cache/pip/wheels/ca/8a/fd/c7b0b43039ee307e366569834484b5aa51ff81d609288dfcd2\n",
            "Successfully built jmetalpy\n",
            "Installing collected packages: jmetalpy\n",
            "Successfully installed jmetalpy-1.5.5\n"
          ]
        },
        {
          "output_type": "stream",
          "name": "stderr",
          "text": [
            "/usr/local/lib/python3.7/dist-packages/statsmodels/tools/_testing.py:19: FutureWarning: pandas.util.testing is deprecated. Use the functions in the public API at pandas.testing instead.\n",
            "  import pandas.util.testing as tm\n"
          ]
        }
      ],
      "source": [
        "!pip install jmetalpy\n",
        "\n",
        "from jmetal.algorithm.multiobjective import NSGAII\n",
        "from jmetal.operator import SBXCrossover, PolynomialMutation\n",
        "from jmetal.problem import ZDT1\n",
        "from jmetal.util.termination_criterion import StoppingByEvaluations\n",
        "\n",
        "from jmetal.util.solution import get_non_dominated_solutions, print_function_values_to_file, print_variables_to_file\n",
        "from jmetal.lab.visualization import Plot\n"
      ]
    },
    {
      "cell_type": "code",
      "source": [
        "problem = ZDT1()\n",
        "\n",
        "algorithm = NSGAII(\n",
        "    problem=problem,\n",
        "    population_size=100,\n",
        "    offspring_population_size=100,\n",
        "    mutation=PolynomialMutation(probability=1.0 / problem.number_of_variables, distribution_index=20),\n",
        "    crossover=SBXCrossover(probability=1.0, distribution_index=20),\n",
        "    termination_criterion=StoppingByEvaluations(max_evaluations=25000)\n",
        ")\n",
        "\n",
        "algorithm.run()\n",
        "\n",
        "front = get_non_dominated_solutions(algorithm.get_result())"
      ],
      "metadata": {
        "id": "YuOefsCd27Pb"
      },
      "execution_count": 2,
      "outputs": []
    },
    {
      "cell_type": "code",
      "source": [
        "print_function_values_to_file(front, 'FUN.NSGAII.ZDT1')\n",
        "print_variables_to_file(front, 'VAR.NSGAII.ZDT1')"
      ],
      "metadata": {
        "colab": {
          "base_uri": "https://localhost:8080/"
        },
        "id": "VkePLFz73g1j",
        "outputId": "4c47c3d3-b2e6-449d-ed8a-cb99c42dd200"
      },
      "execution_count": 3,
      "outputs": [
        {
          "output_type": "stream",
          "name": "stderr",
          "text": [
            "2022-04-16 17:20:23,923 [MainThread  ] [INFO ]  Output file (function values): FUN.NSGAII.ZDT1\n",
            "2022-04-16 17:20:23,928 [MainThread  ] [INFO ]  Output file (variables): VAR.NSGAII.ZDT1\n"
          ]
        }
      ]
    },
    {
      "cell_type": "code",
      "source": [
        "plot_front = Plot(title='Pareto front approximation', axis_labels=['x', 'y'])\n",
        "plot_front.plot(front, label='NSGAII-ZDT1', filename='NSGAII-ZDT1', format='png')"
      ],
      "metadata": {
        "id": "Q0z34PpY4CWM"
      },
      "execution_count": 6,
      "outputs": []
    }
  ]
}