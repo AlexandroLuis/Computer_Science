{
  "nbformat": 4,
  "nbformat_minor": 0,
  "metadata": {
    "colab": {
      "name": "Scipy_01-07/2.ipynb",
      "provenance": [],
      "collapsed_sections": []
    },
    "kernelspec": {
      "name": "python3",
      "display_name": "Python 3"
    },
    "language_info": {
      "name": "python"
    }
  },
  "cells": [
    {
      "cell_type": "code",
      "execution_count": 1,
      "metadata": {
        "colab": {
          "base_uri": "https://localhost:8080/"
        },
        "id": "HZGc5aoeAL6l",
        "outputId": "99b61f7c-ca49-4da1-afc7-14a0d5292603"
      },
      "outputs": [
        {
          "output_type": "stream",
          "name": "stdout",
          "text": [
            "Requirement already satisfied: scipy in /usr/local/lib/python3.7/dist-packages (1.4.1)\n",
            "Requirement already satisfied: numpy>=1.13.3 in /usr/local/lib/python3.7/dist-packages (from scipy) (1.21.5)\n"
          ]
        }
      ],
      "source": [
        "!pip install scipy\n",
        "from scipy.optimize import rosen, differential_evolution"
      ]
    },
    {
      "cell_type": "code",
      "source": [
        "\n",
        "bounds = [(4,12), (3, 16), (0, 4), (-5, 1), (1, 2)]\n",
        "result = differential_evolution(rosen, bounds)\n",
        "result.x, result.fun"
      ],
      "metadata": {
        "colab": {
          "base_uri": "https://localhost:8080/"
        },
        "id": "x-Pg8veaAT_8",
        "outputId": "df73da98-f59b-4efc-8374-edb03d7fa383"
      },
      "execution_count": 2,
      "outputs": [
        {
          "output_type": "execute_result",
          "data": {
            "text/plain": [
              "(array([4.        , 3.        , 1.75136503, 1.        , 1.        ]),\n",
              " 22595.19988224732)"
            ]
          },
          "metadata": {},
          "execution_count": 2
        }
      ]
    }
  ]
}