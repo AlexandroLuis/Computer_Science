{
  "nbformat": 4,
  "nbformat_minor": 0,
  "metadata": {
    "colab": {
      "name": "ParticleColisions.ipynb",
      "provenance": []
    },
    "kernelspec": {
      "name": "python3",
      "display_name": "Python 3"
    },
    "language_info": {
      "name": "python"
    }
  },
  "cells": [
    {
      "cell_type": "markdown",
      "source": [
        "#import"
      ],
      "metadata": {
        "id": "jctwf6Iadysz"
      }
    },
    {
      "cell_type": "code",
      "source": [
        "import numpy as np\n",
        "import matplotlib.pylab as plt\n",
        "\n",
        "!pip install git+https://github.com/mattbellis/h5hep.git\n",
        "import h5hep\n",
        "\n",
        "!pip install git+https://github.com/mattbellis/particle_physics_simplified.git\n",
        "import pps_tools as pps\n"
      ],
      "metadata": {
        "id": "MyNf9leidz-E"
      },
      "execution_count": null,
      "outputs": []
    },
    {
      "cell_type": "code",
      "source": [
        "# Download the dataset\n",
        "# from\n",
        "# https://github.com/particle-physics-playground/playground/tree/master/data\n",
        "#  ~~~~~~~~~~~~~~~~ #\n",
        "\n",
        "pps.download_from_drive('dimuons_100k.hdf5')\n",
        "infile = 'data/dimuons_100k.hdf5'"
      ],
      "metadata": {
        "id": "a8FbEyZ_fZh5"
      },
      "execution_count": null,
      "outputs": []
    },
    {
      "cell_type": "markdown",
      "source": [
        "#build colisions"
      ],
      "metadata": {
        "id": "MHLQ6bVyeNsi"
      }
    },
    {
      "cell_type": "code",
      "source": [
        "collisions = pps.get_collisions(infile,experiment='CMS',verbose=False)\n",
        "print(len(collisions), \" collisions\")  # This line is optional, and simply tells you how many events are in the file."
      ],
      "metadata": {
        "colab": {
          "base_uri": "https://localhost:8080/"
        },
        "id": "MaBOTFCzeSzh",
        "outputId": "ae6a01d4-30c4-4d0f-ce97-0fc638786744"
      },
      "execution_count": null,
      "outputs": [
        {
          "output_type": "stream",
          "name": "stdout",
          "text": [
            "\n",
            "Building a simplified interface to the events...\n",
            "\n",
            "Building the indices...\n",
            "Built the indices!\n",
            "Data is read in and input file is closed.\n",
            "Reading in event  0\n",
            "Reading in event  10000\n",
            "Reading in event  20000\n",
            "Reading in event  30000\n",
            "Reading in event  40000\n",
            "Reading in event  50000\n",
            "Reading in event  60000\n",
            "Reading in event  70000\n",
            "Reading in event  80000\n",
            "Reading in event  90000\n",
            "100000  collisions\n"
          ]
        }
      ]
    },
    {
      "cell_type": "code",
      "source": [
        "second_collision = collisions[1]   # the second event\n",
        "print(\"First event: \",second_collision)\n",
        "all_muons = second_collision['muons']    # all of the jets in the first event\n",
        "print(\"All muons: \",all_muons)\n",
        "first_muon = all_muons[0]    # the first jet in the first event\n",
        "print(\"First muon: \",first_muon)   \n",
        "muon_energy = first_muon['e']      # the energy of the first photon\n",
        "print(\"First muon's energy: \",muon_energy)"
      ],
      "metadata": {
        "colab": {
          "base_uri": "https://localhost:8080/"
        },
        "id": "v_2GDPDQea9R",
        "outputId": "cc26c46f-8d2f-42dd-efc1-eeb2fa047779"
      },
      "execution_count": null,
      "outputs": [
        {
          "output_type": "stream",
          "name": "stdout",
          "text": [
            "First event:  {'jets': [], 'muons': [{'e': 12.9435, 'px': 5.12579, 'py': -3.98369, 'pz': -11.1973, 'q': -1}, {'e': 11.8636, 'px': 4.78984, 'py': -6.26222, 'pz': -8.86434, 'q': 1}], 'electrons': [], 'photons': [], 'METx': 0.0, 'METy': 0.0}\n",
            "All muons:  [{'e': 12.9435, 'px': 5.12579, 'py': -3.98369, 'pz': -11.1973, 'q': -1}, {'e': 11.8636, 'px': 4.78984, 'py': -6.26222, 'pz': -8.86434, 'q': 1}]\n",
            "First muon:  {'e': 12.9435, 'px': 5.12579, 'py': -3.98369, 'pz': -11.1973, 'q': -1}\n",
            "First muon's energy:  12.9435\n"
          ]
        }
      ]
    },
    {
      "cell_type": "code",
      "source": [
        "energies = []\n",
        "\n",
        "for collision in collisions:          # loops over all the events in the file\n",
        "  muons = collision['muons']      # gets the list of all muons in the event\n",
        "  \n",
        "  for muon in muons:           # loops over each muon in the current event\n",
        "    e = muon['e']                # gets the energy of the muon\n",
        "    \n",
        "    energies.append(e)             # puts the energy in a list"
      ],
      "metadata": {
        "id": "tkpEfhqcee04"
      },
      "execution_count": null,
      "outputs": []
    },
    {
      "cell_type": "code",
      "source": [
        "#plot first energies in a histogram \n",
        "plt.hist(energies,bins=50,range=(0,100));"
      ],
      "metadata": {
        "colab": {
          "base_uri": "https://localhost:8080/",
          "height": 265
        },
        "id": "z_PdVbZqegrz",
        "outputId": "5c736489-cd57-4594-eb13-cb5c21306860"
      },
      "execution_count": null,
      "outputs": [
        {
          "output_type": "display_data",
          "data": {
            "text/plain": [
              "<Figure size 432x288 with 1 Axes>"
            ],
            "image/png": "[encoded data removed]"
          },
          "metadata": {
            "needs_background": "light"
          }
        }
      ]
    },
    {
      "cell_type": "code",
      "source": [
        "alldata = pps.get_all_data(infile,verbose=False)\n",
        "nentries = pps.get_number_of_entries(alldata)\n",
        "\n",
        "print(\"# entries: \",nentries)   # This optional line tells you how many events are in the file"
      ],
      "metadata": {
        "colab": {
          "base_uri": "https://localhost:8080/"
        },
        "id": "AqLRB-EierMR",
        "outputId": "0f1287e8-f0f2-4c0a-b6c5-159dabf385fb"
      },
      "execution_count": null,
      "outputs": [
        {
          "output_type": "stream",
          "name": "stdout",
          "text": [
            "\n",
            "Loading in the data...\n",
            "\n",
            "Building the indices...\n",
            "Built the indices!\n",
            "Data is read in and input file is closed.\n",
            "# entries:  100000\n"
          ]
        }
      ]
    },
    {
      "cell_type": "code",
      "source": [
        "for entry in range(nentries):      # This range will loop over ALL of the events\n",
        "    collision = pps.get_collision(alldata,entry_number=entry,experiment='CMS')\n",
        "\n",
        "for entry in range(0,int(nentries/2)):     # This range will loop over the first half of the events\n",
        "    collision = pps.get_collision(alldata,entry_number=entry,experiment='CMS')\n",
        "    \n",
        "for entry in range(int(nentries/2),nentries):      # This range will loop over the second half of the events\n",
        "    collision = pps.get_collision(alldata,entry_number=entry,experiment='CMS')"
      ],
      "metadata": {
        "id": "Fot86sO5es8g"
      },
      "execution_count": null,
      "outputs": []
    },
    {
      "cell_type": "code",
      "source": [
        "#second energies in a histogram \n",
        "\n",
        "energies = []\n",
        "\n",
        "for event in range(0,int(nentries/3)):        # Loops over first 3rd of all events\n",
        "  collision = pps.get_collision(alldata,entry_number=event,experiment='CMS')    # organizes the data so you can interface with it\n",
        "  muons = collision['muons']         # gets the list of all photons in the current event\n",
        "  \n",
        "  for muon in muons:                 # loops over all photons in the event\n",
        "    e = muon['e']                      # gets the energy of the photon\n",
        "    \n",
        "    energies.append(e)                   # adds the energy to a list"
      ],
      "metadata": {
        "id": "LVtbhpFcetCS"
      },
      "execution_count": null,
      "outputs": []
    },
    {
      "cell_type": "code",
      "source": [
        "plt.hist(energies,bins=50,range=(0,100));"
      ],
      "metadata": {
        "colab": {
          "base_uri": "https://localhost:8080/"
        },
        "id": "EuupKliCezeB",
        "outputId": "829d0897-32ae-46b8-97f5-11fc69f2bf4f"
      },
      "execution_count": null,
      "outputs": [
        {
          "output_type": "display_data",
          "data": {
            "text/plain": [
              "<Figure size 432x288 with 1 Axes>"
            ],
            "image/png": "[encoded data removed]"
          },
          "metadata": {
            "needs_background": "light"
          }
        }
      ]
    }
  ]
}