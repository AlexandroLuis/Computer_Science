{
  "cells": [
    {
      "cell_type": "markdown",
      "metadata": {
        "id": "0wreqV4v7unb"
      },
      "source": [
        "#import"
      ]
    },
    {
      "cell_type": "code",
      "execution_count": 1,
      "metadata": {
        "id": "Tf9AphF-7vf6"
      },
      "outputs": [],
      "source": [
        "import tensorflow as tf\n",
        "from tensorflow import keras\n",
        "\n",
        "import numpy as np\n",
        "import matplotlib.pyplot as plt"
      ]
    },
    {
      "cell_type": "markdown",
      "metadata": {
        "id": "2FgGxgzu7wTK"
      },
      "source": [
        "#import dataset"
      ]
    },
    {
      "cell_type": "code",
      "execution_count": null,
      "metadata": {
        "id": "KV6cMsja7w_y"
      },
      "outputs": [],
      "source": [
        "fashion_mnist = keras.datasets.fashion_mnist\n",
        "(train_images, train_labels), (test_images, test_labels) = fashion_mnist.load_data()\n",
        "\n",
        "class_names = [\"Camiseta\", \"Calca\", \"Sueter\", \"Vestido\", \"Casaco\", \"Sandalia\", \"Camisa\", \"Tenis\", \"Bolsa\", \"Bota\"]\n",
        "\n",
        "x = 0\n",
        "class_names[train_labels[x]]\n",
        "\n",
        "train_images = train_images / 255.0\n",
        "test_images = test_images / 255.0"
      ]
    },
    {
      "cell_type": "markdown",
      "metadata": {
        "id": "VuW_tnEHL1Vt"
      },
      "source": [
        "#neural network\n"
      ]
    },
    {
      "cell_type": "code",
      "execution_count": 4,
      "metadata": {
        "id": "a1hd0zm0L33Z"
      },
      "outputs": [],
      "source": [
        "#structure\n",
        "'''\n",
        "model = keras.Sequential([\n",
        "                          keras.layers.Conv2D(32, kernel_size=(3, 3), activation='relu', input_shape=(28, 28, 1)),\n",
        "                          keras.layers.MaxPool2D(pool_size=(2, 2)),\n",
        "                          keras.layers.Conv2D(64, kernel_size=(3, 3), activation='relu'),\n",
        "                          keras.layers.MaxPool2D(pool_size=(2, 2)),\n",
        "                          keras.layers.Flatten(), #input\n",
        "                          keras.layers.Dense(128, activation = tf.keras.layers.LeakyReLU(alpha=0.1)), #hidden\n",
        "                          keras.layers.Dense(10, activation='softmax') #output\n",
        "])\n",
        "'''\n",
        "model = keras.Sequential()\n",
        "model.add(keras.layers.Conv2D(32, kernel_size=(3,3), activation='relu', input_shape=(28,28,1)))\n",
        "model.add(keras.layers.MaxPool2D(pool_size=(2,2)))\n",
        "model.add(keras.layers.Conv2D(32, kernel_size=(3,3), activation='relu'))\n",
        "model.add(keras.layers.MaxPool2D(pool_size=(2,2)))\n",
        "model.add(keras.layers.Flatten())\n",
        "model.add(keras.layers.Dense(64, activation=tf.keras.layers.LeakyReLU(alpha=0.1)))\n",
        "model.add(keras.layers.Dense(10, activation='softmax'))"
      ]
    },
    {
      "cell_type": "code",
      "execution_count": 5,
      "metadata": {
        "colab": {
          "base_uri": "https://localhost:8080/"
        },
        "id": "2W0uW31vN2l9",
        "outputId": "00038ae3-a4b2-4dea-dd97-c0b5216399f2"
      },
      "outputs": [
        {
          "output_type": "stream",
          "name": "stdout",
          "text": [
            "Epoch 1/5\n",
            "1875/1875 [==============================] - 57s 30ms/step - loss: 0.4825 - accuracy: 0.8248\n",
            "Epoch 2/5\n",
            "1875/1875 [==============================] - 52s 28ms/step - loss: 0.3287 - accuracy: 0.8800\n",
            "Epoch 3/5\n",
            "1875/1875 [==============================] - 52s 28ms/step - loss: 0.2848 - accuracy: 0.8955\n",
            "Epoch 4/5\n",
            "1875/1875 [==============================] - 51s 27ms/step - loss: 0.2546 - accuracy: 0.9065\n",
            "Epoch 5/5\n",
            "1875/1875 [==============================] - 51s 27ms/step - loss: 0.2327 - accuracy: 0.9140\n",
            "313/313 - 3s - loss: 0.2760 - accuracy: 0.8991 - 3s/epoch - 8ms/step\n",
            "acc: 0.8991000056266785\n"
          ]
        }
      ],
      "source": [
        "#train\n",
        "\n",
        "model.compile(optimizer = 'adam', \n",
        "              loss = 'sparse_categorical_crossentropy',\n",
        "              metrics = 'accuracy')\n",
        "\n",
        "train_images = np.expand_dims(train_images,3)\n",
        "test_images  = np.expand_dims(test_images, 3) \n",
        "\n",
        "model.fit(train_images, train_labels, epochs=5)\n",
        "test_loss, test_acc = model.evaluate(test_images, test_labels, verbose=2)\n",
        "\n",
        "print(f\"acc: {test_acc}\")"
      ]
    },
    {
      "cell_type": "code",
      "source": [
        "predictions = model.predict(test_images)\n",
        "\n",
        "print(predictions.shape)\n",
        "print(class_names[np.argmax(predictions[0])])\n",
        "\n",
        "img = test_images[0]\n",
        "img = np.expand_dims(img, 0)\n",
        "\n",
        "print(img.shape)\n",
        "\n",
        "predictions = model.predict(img)\n",
        "print(f\"Predicted img: {class_names[np.argmax(predictions[0])]}\")"
      ],
      "metadata": {
        "colab": {
          "base_uri": "https://localhost:8080/"
        },
        "id": "3Xb_582rnpKS",
        "outputId": "09a2b3d6-b67a-4ac3-ec72-a9e629baf2a2"
      },
      "execution_count": 23,
      "outputs": [
        {
          "output_type": "stream",
          "name": "stdout",
          "text": [
            "(10000, 10)\n",
            "Bota\n",
            "(1, 28, 28, 1)\n",
            "Predicted img: Bota\n"
          ]
        }
      ]
    }
  ],
  "metadata": {
    "colab": {
      "collapsed_sections": [],
      "name": "AG - 16/03.ipynb",
      "provenance": []
    },
    "kernelspec": {
      "display_name": "Python 3",
      "name": "python3"
    },
    "language_info": {
      "name": "python"
    }
  },
  "nbformat": 4,
  "nbformat_minor": 0
}